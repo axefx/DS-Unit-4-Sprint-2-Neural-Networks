{
 "cells": [
  {
   "cell_type": "markdown",
   "metadata": {
    "colab_type": "text",
    "id": "pBQsZEJmubLs"
   },
   "source": [
    "<img align=\"left\" src=\"https://lever-client-logos.s3.amazonaws.com/864372b1-534c-480e-acd5-9711f850815c-1524247202159.png\" width=200>\n",
    "<br></br>\n",
    "\n",
    "# Neural Network Framework (Keras)\n",
    "\n",
    "## *Data Science Unit 4 Sprint 2 Assignment 3*\n",
    "\n",
    "## Use the Keras Library to build a Multi-Layer Perceptron Model on the Boston Housing dataset\n",
    "\n",
    "- The Boston Housing dataset comes with the Keras library so use Keras to import it into your notebook. \n",
    "- Normalize the data (all features should have roughly the same scale)\n",
    "- Import the type of model and layers that you will need from Keras.\n",
    "- Instantiate a model object and use `model.add()` to add layers to your model\n",
    "- Since this is a regression model you will have a single output node in the final layer.\n",
    "- Use activation functions that are appropriate for this task\n",
    "- Compile your model\n",
    "- Fit your model and report its accuracy in terms of Mean Squared Error\n",
    "- Use the history object that is returned from model.fit to make graphs of the model's loss or train/validation accuracies by epoch. \n",
    "- Run this same data through a linear regression model. Which achieves higher accuracy?\n",
    "- Do a little bit of feature engineering and see how that affects your neural network model. (you will need to change your model to accept more inputs)\n",
    "- After feature engineering, which model sees a greater accuracy boost due to the new features?"
   ]
  },
  {
   "cell_type": "code",
   "execution_count": 159,
   "metadata": {
    "colab": {},
    "colab_type": "code",
    "id": "8NLTAR87uYJ-"
   },
   "outputs": [],
   "source": [
    "from tensorflow.keras.datasets import boston_housing\n",
    "\n",
    "(x_train, y_train), (x_test, y_test) = boston_housing.load_data()"
   ]
  },
  {
   "cell_type": "code",
   "execution_count": 160,
   "metadata": {},
   "outputs": [
    {
     "data": {
      "text/plain": [
       "(404, 13)"
      ]
     },
     "execution_count": 160,
     "metadata": {},
     "output_type": "execute_result"
    }
   ],
   "source": [
    "x_train.shape"
   ]
  },
  {
   "cell_type": "code",
   "execution_count": 162,
   "metadata": {},
   "outputs": [
    {
     "data": {
      "text/plain": [
       "array([  1.23247,   0.     ,   8.14   ,   0.     ,   0.538  ,   6.142  ,\n",
       "        91.7    ,   3.9769 ,   4.     , 307.     ,  21.     , 396.9    ,\n",
       "        18.72   ])"
      ]
     },
     "execution_count": 162,
     "metadata": {},
     "output_type": "execute_result"
    }
   ],
   "source": [
    "x_train[0]"
   ]
  },
  {
   "cell_type": "code",
   "execution_count": 163,
   "metadata": {},
   "outputs": [
    {
     "data": {
      "text/plain": [
       "(404, 13)"
      ]
     },
     "execution_count": 163,
     "metadata": {},
     "output_type": "execute_result"
    }
   ],
   "source": [
    "from sklearn.preprocessing import Normalizer\n",
    "\n",
    "norm = Normalizer()\n",
    "\n",
    "x_train = norm.fit_transform(x_train)\n",
    "x_test = norm.transform(x_test)\n",
    "x_train.shape"
   ]
  },
  {
   "cell_type": "code",
   "execution_count": 169,
   "metadata": {},
   "outputs": [
    {
     "data": {
      "text/plain": [
       "(404,)"
      ]
     },
     "execution_count": 169,
     "metadata": {},
     "output_type": "execute_result"
    }
   ],
   "source": [
    "y_train.shape"
   ]
  },
  {
   "cell_type": "code",
   "execution_count": 175,
   "metadata": {},
   "outputs": [
    {
     "name": "stdout",
     "output_type": "stream",
     "text": [
      "Epoch 1/10\n",
      "13/13 [==============================] - 0s 9ms/step - loss: 442.7971 - MSE: 442.7971 - val_loss: 296.6437 - val_MSE: 296.6437\n",
      "Epoch 2/10\n",
      "13/13 [==============================] - 0s 4ms/step - loss: 177.4793 - MSE: 177.4793 - val_loss: 91.0870 - val_MSE: 91.0870\n",
      "Epoch 3/10\n",
      "13/13 [==============================] - 0s 4ms/step - loss: 87.3213 - MSE: 87.3213 - val_loss: 84.0852 - val_MSE: 84.0852\n",
      "Epoch 4/10\n",
      "13/13 [==============================] - 0s 5ms/step - loss: 81.9462 - MSE: 81.9462 - val_loss: 74.5633 - val_MSE: 74.5633\n",
      "Epoch 5/10\n",
      "13/13 [==============================] - 0s 5ms/step - loss: 73.3610 - MSE: 73.3610 - val_loss: 71.6933 - val_MSE: 71.6933\n",
      "Epoch 6/10\n",
      "13/13 [==============================] - 0s 6ms/step - loss: 70.6437 - MSE: 70.6437 - val_loss: 67.9612 - val_MSE: 67.9612\n",
      "Epoch 7/10\n",
      "13/13 [==============================] - 0s 5ms/step - loss: 68.1167 - MSE: 68.1167 - val_loss: 65.1339 - val_MSE: 65.1339\n",
      "Epoch 8/10\n",
      "13/13 [==============================] - 0s 4ms/step - loss: 66.1986 - MSE: 66.1986 - val_loss: 63.2963 - val_MSE: 63.2963\n",
      "Epoch 9/10\n",
      "13/13 [==============================] - 0s 4ms/step - loss: 64.5123 - MSE: 64.5123 - val_loss: 61.7568 - val_MSE: 61.7568\n",
      "Epoch 10/10\n",
      "13/13 [==============================] - 0s 4ms/step - loss: 63.8785 - MSE: 63.8785 - val_loss: 60.3478 - val_MSE: 60.3478\n"
     ]
    }
   ],
   "source": [
    "from tensorflow.keras.models import Sequential\n",
    "from tensorflow.keras.layers import Dense, Flatten\n",
    "\n",
    "model = Sequential([\n",
    "    Flatten(),\n",
    "    Dense(202, input_dim=404, activation=\"selu\"),\n",
    "    Dense(202, activation='selu'),\n",
    "    Dense(1, activation='linear')\n",
    "])\n",
    "model.compile(loss='mean_squared_error', optimizer='adam', metrics=['MSE'])\n",
    "\n",
    "history = model.fit(x=x_train, \n",
    "        y=y_train, \n",
    "        epochs=10, \n",
    "        validation_data=(x_test, y_test))\n",
    "          \n",
    "#         callbacks=[tensorboard_callback])"
   ]
  },
  {
   "cell_type": "code",
   "execution_count": 176,
   "metadata": {},
   "outputs": [
    {
     "data": {
      "text/plain": [
       "{'loss': [442.79705810546875,\n",
       "  177.4793243408203,\n",
       "  87.32133483886719,\n",
       "  81.94615173339844,\n",
       "  73.36104583740234,\n",
       "  70.64370727539062,\n",
       "  68.11671447753906,\n",
       "  66.1986083984375,\n",
       "  64.51226806640625,\n",
       "  63.878456115722656],\n",
       " 'MSE': [442.79705810546875,\n",
       "  177.4793243408203,\n",
       "  87.32133483886719,\n",
       "  81.94615173339844,\n",
       "  73.36104583740234,\n",
       "  70.64370727539062,\n",
       "  68.11671447753906,\n",
       "  66.1986083984375,\n",
       "  64.51226806640625,\n",
       "  63.878456115722656],\n",
       " 'val_loss': [296.6437072753906,\n",
       "  91.08702850341797,\n",
       "  84.0851821899414,\n",
       "  74.56327819824219,\n",
       "  71.69329071044922,\n",
       "  67.96115112304688,\n",
       "  65.13386535644531,\n",
       "  63.2962760925293,\n",
       "  61.756805419921875,\n",
       "  60.34782409667969],\n",
       " 'val_MSE': [296.6437072753906,\n",
       "  91.08702850341797,\n",
       "  84.0851821899414,\n",
       "  74.56327819824219,\n",
       "  71.69329071044922,\n",
       "  67.96115112304688,\n",
       "  65.13386535644531,\n",
       "  63.2962760925293,\n",
       "  61.756805419921875,\n",
       "  60.34782409667969]}"
      ]
     },
     "execution_count": 176,
     "metadata": {},
     "output_type": "execute_result"
    }
   ],
   "source": [
    "history.history"
   ]
  },
  {
   "cell_type": "markdown",
   "metadata": {},
   "source": [
    "## linear regression"
   ]
  },
  {
   "cell_type": "code",
   "execution_count": 183,
   "metadata": {},
   "outputs": [
    {
     "data": {
      "text/plain": [
       "18.16551049349646"
      ]
     },
     "execution_count": 183,
     "metadata": {},
     "output_type": "execute_result"
    }
   ],
   "source": [
    "from sklearn.linear_model import LinearRegression\n",
    "from sklearn.metrics import mean_squared_error\n",
    "\n",
    "lr_model = LinearRegression()\n",
    "lr_model.fit(x_train, y_train)\n",
    "pred = lr_model.predict(x_test)\n",
    "mean_squared_error(y_test, pred)"
   ]
  },
  {
   "cell_type": "markdown",
   "metadata": {
    "colab_type": "text",
    "id": "SfcFnOONyuNm"
   },
   "source": [
    "## Use the Keras Library to build an image recognition network using the Fashion-MNIST dataset (also comes with keras)\n",
    "\n",
    "- Load and preprocess the image data similar to how we preprocessed the MNIST data in class.\n",
    "- Make sure to one-hot encode your category labels\n",
    "- The number of nodes in your output layer should equal the number of classes you want to predict for Fashion-MNIST.\n",
    "- Try different hyperparameters. What is the highest accuracy that you are able to achieve.\n",
    "- Use the history object that is returned from model.fit to make graphs of the model's loss or train/validation accuracies by epoch. \n",
    "- Remember that neural networks fall prey to randomness so you may need to run your model multiple times (or use Cross Validation) in order to tell if a change to a hyperparameter is truly producing better results."
   ]
  },
  {
   "cell_type": "code",
   "execution_count": 125,
   "metadata": {
    "colab": {},
    "colab_type": "code",
    "id": "szi6-IpuzaH1"
   },
   "outputs": [],
   "source": [
    "##### Your Code Here #####\n",
    "from tensorflow.keras.datasets import fashion_mnist\n",
    "\n",
    "(x_train, y_train), (x_test, y_test) = fashion_mnist.load_data()"
   ]
  },
  {
   "cell_type": "code",
   "execution_count": 126,
   "metadata": {},
   "outputs": [
    {
     "data": {
      "text/plain": [
       "(60000, 28, 28)"
      ]
     },
     "execution_count": 126,
     "metadata": {},
     "output_type": "execute_result"
    }
   ],
   "source": [
    "x_train.shape"
   ]
  },
  {
   "cell_type": "code",
   "execution_count": 127,
   "metadata": {},
   "outputs": [
    {
     "data": {
      "text/plain": [
       "10"
      ]
     },
     "execution_count": 127,
     "metadata": {},
     "output_type": "execute_result"
    }
   ],
   "source": [
    "len(set(y_train))"
   ]
  },
  {
   "cell_type": "code",
   "execution_count": 128,
   "metadata": {},
   "outputs": [],
   "source": [
    "# normalize\n",
    "x_train = x_train.astype('float32') / 255.\n",
    "x_test = x_test.astype('float32') / 255."
   ]
  },
  {
   "cell_type": "code",
   "execution_count": 129,
   "metadata": {},
   "outputs": [
    {
     "data": {
      "text/plain": [
       "(60000, 28, 28)"
      ]
     },
     "execution_count": 129,
     "metadata": {},
     "output_type": "execute_result"
    }
   ],
   "source": [
    "x_train.shape"
   ]
  },
  {
   "cell_type": "code",
   "execution_count": 130,
   "metadata": {},
   "outputs": [],
   "source": [
    "from tensorflow.keras.utils import to_categorical\n",
    "# encode labels\n",
    "y_train = to_categorical(y_train, 10)\n",
    "y_test = to_categorical(y_test, 10)"
   ]
  },
  {
   "cell_type": "code",
   "execution_count": 131,
   "metadata": {},
   "outputs": [
    {
     "name": "stdout",
     "output_type": "stream",
     "text": [
      "Epoch 1/10\n",
      "1875/1875 [==============================] - 2s 1ms/step - loss: 1.0517 - accuracy: 0.6982\n",
      "Epoch 2/10\n",
      "1875/1875 [==============================] - 2s 1ms/step - loss: 0.5760 - accuracy: 0.8214\n",
      "Epoch 3/10\n",
      "1875/1875 [==============================] - 2s 963us/step - loss: 0.4858 - accuracy: 0.8389\n",
      "Epoch 4/10\n",
      "1875/1875 [==============================] - 2s 967us/step - loss: 0.4488 - accuracy: 0.8469\n",
      "Epoch 5/10\n",
      "1875/1875 [==============================] - 2s 964us/step - loss: 0.4292 - accuracy: 0.8518\n",
      "Epoch 6/10\n",
      "1875/1875 [==============================] - 2s 1ms/step - loss: 0.4166 - accuracy: 0.8562\n",
      "Epoch 7/10\n",
      "1875/1875 [==============================] - 2s 921us/step - loss: 0.4059 - accuracy: 0.8596\n",
      "Epoch 8/10\n",
      "1875/1875 [==============================] - 2s 932us/step - loss: 0.3986 - accuracy: 0.8609\n",
      "Epoch 9/10\n",
      "1875/1875 [==============================] - 2s 943us/step - loss: 0.3914 - accuracy: 0.8643\n",
      "Epoch 10/10\n",
      "1875/1875 [==============================] - 2s 930us/step - loss: 0.3876 - accuracy: 0.8640\n"
     ]
    }
   ],
   "source": [
    "from tensorflow.keras.models import Sequential\n",
    "from tensorflow.keras.layers import Dense, Flatten\n",
    "\n",
    "model = Sequential()\n",
    "model.add(Flatten(input_shape=(28,28)))\n",
    "model.add(Dense(10, activation='sigmoid'))\n",
    "model.add(Dense(10, activation='softmax'))\n",
    "model.compile(loss='categorical_crossentropy', optimizer='adam', metrics=['accuracy'])\n",
    "result = model.fit(x_train,y_train, epochs=10)"
   ]
  },
  {
   "cell_type": "code",
   "execution_count": 132,
   "metadata": {},
   "outputs": [
    {
     "name": "stdout",
     "output_type": "stream",
     "text": [
      "313/313 [==============================] - 0s 929us/step - loss: 0.4403 - accuracy: 0.8458\n",
      "accuracy: 84.579998254776\n"
     ]
    }
   ],
   "source": [
    "scores = model.evaluate(x_test,y_test)\n",
    "print(f\"{model.metrics_names[1]}: {scores[1]*100}\")"
   ]
  },
  {
   "cell_type": "code",
   "execution_count": 156,
   "metadata": {},
   "outputs": [
    {
     "data": {
      "text/plain": [
       "<matplotlib.axes._subplots.AxesSubplot at 0x15eea8400>"
      ]
     },
     "execution_count": 156,
     "metadata": {},
     "output_type": "execute_result"
    },
    {
     "data": {
      "image/png": "[encoded data removed]",
      "text/plain": [
       "<Figure size 432x288 with 1 Axes>"
      ]
     },
     "metadata": {
      "needs_background": "light"
     },
     "output_type": "display_data"
    }
   ],
   "source": [
    "import seaborn as sns\n",
    "sns.lineplot(result.history['loss'],result.history['accuracy'])"
   ]
  },
  {
   "cell_type": "markdown",
   "metadata": {
    "colab_type": "text",
    "id": "zv_3xNMjzdLI"
   },
   "source": [
    "## Stretch Goals:\n",
    "\n",
    "- Use Hyperparameter Tuning to make the accuracy of your models as high as possible. (error as low as possible)\n",
    "- Use Cross Validation techniques to get more consistent results with your model.\n",
    "- Use GridSearchCV to try different combinations of hyperparameters. \n",
    "- Start looking into other types of Keras layers for CNNs and RNNs maybe try and build a CNN model for fashion-MNIST to see how the results compare."
   ]
  },
  {
   "cell_type": "code",
   "execution_count": null,
   "metadata": {},
   "outputs": [],
   "source": []
  }
 ],
 "metadata": {
  "colab": {
   "name": "LS_DS_433_Keras_Assignment.ipynb",
   "provenance": [],
   "version": "0.3.2"
  },
  "kernelspec": {
   "display_name": "U4-S2-NN (Python3)",
   "language": "python",
   "name": "u4-s2-nn"
  },
  "language_info": {
   "codemirror_mode": {
    "name": "ipython",
    "version": 3
   },
   "file_extension": ".py",
   "mimetype": "text/x-python",
   "name": "python",
   "nbconvert_exporter": "python",
   "pygments_lexer": "ipython3",
   "version": "3.7.0"
  }
 },
 "nbformat": 4,
 "nbformat_minor": 4
}
